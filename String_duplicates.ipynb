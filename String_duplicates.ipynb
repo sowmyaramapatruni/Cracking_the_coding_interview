{
 "cells": [
  {
   "cell_type": "code",
   "execution_count": 14,
   "metadata": {
    "collapsed": true
   },
   "outputs": [],
   "source": [
    "Inputparam = \"sowmyaa\""
   ]
  },
  {
   "cell_type": "code",
   "execution_count": 15,
   "metadata": {},
   "outputs": [
    {
     "name": "stdout",
     "output_type": "stream",
     "text": [
      "False\n"
     ]
    }
   ],
   "source": [
    "# checks whether a string conntains duplicates\n",
    "\n",
    "def isUnique(string):\n",
    "    \n",
    "    char_set = {}\n",
    "    if len(string) > 128 :\n",
    "        return False\n",
    "    \n",
    "    for letter in string:\n",
    "         if letter in char_set:\n",
    "            return False\n",
    "         else :\n",
    "            char_set[letter] = True\n",
    "    return True\n",
    "\n",
    "if __name__ == \"__main__\":\n",
    "    import sys\n",
    "    print(isUnique(Inputparam))\n",
    "    "
   ]
  }
 ],
 "metadata": {
  "kernelspec": {
   "display_name": "Python 3",
   "language": "python",
   "name": "python3"
  },
  "language_info": {
   "codemirror_mode": {
    "name": "ipython",
    "version": 3
   },
   "file_extension": ".py",
   "mimetype": "text/x-python",
   "name": "python",
   "nbconvert_exporter": "python",
   "pygments_lexer": "ipython3",
   "version": "3.6.2"
  }
 },
 "nbformat": 4,
 "nbformat_minor": 2
}
