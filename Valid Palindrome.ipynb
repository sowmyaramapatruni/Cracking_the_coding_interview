{
 "cells": [
  {
   "cell_type": "code",
   "execution_count": 1,
   "metadata": {
    "collapsed": true
   },
   "outputs": [],
   "source": [
    "# Given a non-empty string s, you may delete at most one character. Judge whether you can make it a palindrome.\n",
    "# Input: \"aba\"\n",
    "# Output: True\n",
    "\n",
    "# Input: \"abca\"\n",
    "# Output: True\n",
    "# Explanation: You could delete the character 'c'.\n",
    "\n",
    "Inputparam1 = \"aguokepatgbnvfqmgmlcupuufxoohdfpgjdmysgvhmvffcnqxjjxqncffvmhvgsymdjgpfdhooxfuupuculmgmqfvnbgtapekouga\""
   ]
  },
  {
   "cell_type": "code",
   "execution_count": 16,
   "metadata": {},
   "outputs": [
    {
     "name": "stdout",
     "output_type": "stream",
     "text": [
      "True\n"
     ]
    }
   ],
   "source": [
    "def validPalindrome (s):\n",
    "        \"\"\"\n",
    "        :type s: str\n",
    "        :rtype: bool\n",
    "        \"\"\"\n",
    "        \n",
    "        def isPalindrome(s):\n",
    "            length = int(len(s))\n",
    "            for i in range(length):\n",
    "                if s[i] != s[~i] :\n",
    "                    return False\n",
    "            return True\n",
    "        \n",
    "        length = int(len(s))\n",
    "       \n",
    "        for i in range(length):\n",
    "            if s[i] != s[~i] :\n",
    "                return isPalindrome(s[i+1:~i+1]) or isPalindrome(s[i:~i])\n",
    "        return True\n",
    "\n",
    "    \n",
    "if __name__ == \"__main__\":\n",
    "    import sys\n",
    "    print(validPalindrome(Inputparam1))\n",
    "    "
   ]
  }
 ],
 "metadata": {
  "kernelspec": {
   "display_name": "Python 3",
   "language": "python",
   "name": "python3"
  },
  "language_info": {
   "codemirror_mode": {
    "name": "ipython",
    "version": 3
   },
   "file_extension": ".py",
   "mimetype": "text/x-python",
   "name": "python",
   "nbconvert_exporter": "python",
   "pygments_lexer": "ipython3",
   "version": "3.6.2"
  }
 },
 "nbformat": 4,
 "nbformat_minor": 2
}
