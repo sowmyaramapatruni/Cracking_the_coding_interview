{
 "cells": [
  {
   "cell_type": "code",
   "execution_count": 38,
   "metadata": {
    "collapsed": true
   },
   "outputs": [],
   "source": [
    "Inputparam1 = \"Mr John Smith Sir      \""
   ]
  },
  {
   "cell_type": "code",
   "execution_count": 39,
   "metadata": {},
   "outputs": [
    {
     "name": "stdout",
     "output_type": "stream",
     "text": [
      "Mr%20John%20Smith%20Sir\n",
      "Mr%20John%20Smith%20Sir\n"
     ]
    }
   ],
   "source": [
    "def URlify(string):\n",
    "    return string.strip().replace(\" \", \"%20\")\n",
    "\n",
    "def URlify_using_list(string,length):\n",
    "    \n",
    "    letters = list(string)\n",
    "    count =0\n",
    "    \n",
    "    for i in range(length-1,-1,-1):\n",
    "        if letters[i] == \" \":\n",
    "            count +=1\n",
    "    \n",
    "    index = length-1 + count*2\n",
    "    \n",
    "    \n",
    "    for i in range(length-1,-1,-1):\n",
    "        if letters[i] == \" \":\n",
    "            letters[index] = \"0\"\n",
    "            letters[index-1] = \"2\"\n",
    "            letters[index-2] = \"%\"\n",
    "            index = index-3\n",
    "        else :\n",
    "            letters[index]=letters[i]\n",
    "            index = index-1\n",
    "    return ''.join(letters)\n",
    "\n",
    "if __name__ == \"__main__\":\n",
    "    import sys\n",
    "    print(URlify(Inputparam1))\n",
    "    print(URlify_using_list(Inputparam1,17))"
   ]
  }
 ],
 "metadata": {
  "kernelspec": {
   "display_name": "Python 3",
   "language": "python",
   "name": "python3"
  },
  "language_info": {
   "codemirror_mode": {
    "name": "ipython",
    "version": 3
   },
   "file_extension": ".py",
   "mimetype": "text/x-python",
   "name": "python",
   "nbconvert_exporter": "python",
   "pygments_lexer": "ipython3",
   "version": "3.6.2"
  }
 },
 "nbformat": 4,
 "nbformat_minor": 2
}
