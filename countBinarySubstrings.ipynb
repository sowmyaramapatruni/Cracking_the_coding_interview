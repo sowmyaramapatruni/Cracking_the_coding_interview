{
 "cells": [
  {
   "cell_type": "code",
   "execution_count": 3,
   "metadata": {
    "collapsed": true
   },
   "outputs": [],
   "source": [
    "#Question\n",
    "\n",
    "#Give a string s, count the number of non-empty (contiguous) substrings that have the same number of 0's and 1's, and all the 0's and all the 1's in these substrings are grouped consecutively.\n",
    "#Substrings that occur multiple times are counted the number of times they occur.\n",
    "\n",
    "\n",
    "\n",
    "#Input: \"00110011\"\n",
    "#Output: 6\n",
    "#Explanation: There are 6 substrings that have equal number of consecutive 1's and 0's: \"0011\", \"01\", \"1100\", \"10\", \"0011\", and \"01\".\n",
    "\n",
    "#Notice that some of these substrings repeat and are counted the number of times they occur.\n",
    "\n",
    "#Also, \"00110011\" is not a valid substring because all the 0's (and 1's) are not grouped together.\n",
    "\n",
    "Inputparam1 = \"00110\""
   ]
  },
  {
   "cell_type": "code",
   "execution_count": 4,
   "metadata": {},
   "outputs": [
    {
     "name": "stdout",
     "output_type": "stream",
     "text": [
      "3\n"
     ]
    }
   ],
   "source": [
    " def countBinarySubstrings(s):\n",
    "        \"\"\"\n",
    "        :type s: str\n",
    "        :rtype: int\n",
    "        \"\"\"\n",
    "        consecutive=1\n",
    "        groups = []\n",
    "        sum= 0\n",
    "        \n",
    "        for i in range(1,len(s)):\n",
    "            if s[i] == s[i-1] :\n",
    "                consecutive = consecutive+1\n",
    "            else:\n",
    "                groups.append(consecutive)\n",
    "                consecutive = 1\n",
    "        groups.append(consecutive)\n",
    "        \n",
    "        for i in range(1,len(groups)):\n",
    "            sum = sum + min(groups[i],groups[i-1])\n",
    "            \n",
    "        return sum \n",
    "    \n",
    "if __name__ == \"__main__\":\n",
    "    import sys\n",
    "    print(countBinarySubstrings(Inputparam1))"
   ]
  }
 ],
 "metadata": {
  "kernelspec": {
   "display_name": "Python 3",
   "language": "python",
   "name": "python3"
  },
  "language_info": {
   "codemirror_mode": {
    "name": "ipython",
    "version": 3
   },
   "file_extension": ".py",
   "mimetype": "text/x-python",
   "name": "python",
   "nbconvert_exporter": "python",
   "pygments_lexer": "ipython3",
   "version": "3.6.2"
  }
 },
 "nbformat": 4,
 "nbformat_minor": 2
}
