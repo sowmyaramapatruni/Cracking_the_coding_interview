{
 "cells": [
  {
   "cell_type": "code",
   "execution_count": null,
   "metadata": {
    "collapsed": true
   },
   "outputs": [],
   "source": [
    "Inputparam1 = \"1234567\"\n",
    "Inputparam2 = \"5674362\""
   ]
  },
  {
   "cell_type": "code",
   "execution_count": null,
   "metadata": {},
   "outputs": [],
   "source": [
    "# program to check for anagrams\n",
    "\n",
    "def checkAnagram(string1, string2):\n",
    "    \n",
    "    char_set ={}\n",
    "    \n",
    "    if len(string1) != len(string2) :\n",
    "        return False\n",
    "    \n",
    "    for letter in string1:\n",
    "        if letter in char_set:\n",
    "            char_set[letter] = char_set[letter] + 1\n",
    "        else:\n",
    "            char_set[letter] = 1\n",
    "            \n",
    "    for letter in string2:\n",
    "        if letter in char_set:\n",
    "            char_set[letter] = char_set[letter] - 1\n",
    "            if char_set[letter] < 0:\n",
    "                return False\n",
    "        else:\n",
    "            return False\n",
    "            \n",
    "    return True\n",
    "\n",
    "if __name__ == \"__main__\":\n",
    "    import sys\n",
    "    print(checkAnagram(Inputparam1,Inputparam2))"
   ]
  }
 ],
 "metadata": {
  "kernelspec": {
   "display_name": "Python 3",
   "language": "python",
   "name": "python3"
  },
  "language_info": {
   "codemirror_mode": {
    "name": "ipython",
    "version": 3
   },
   "file_extension": ".py",
   "mimetype": "text/x-python",
   "name": "python",
   "nbconvert_exporter": "python",
   "pygments_lexer": "ipython3",
   "version": "3.6.2"
  }
 },
 "nbformat": 4,
 "nbformat_minor": 2
}
